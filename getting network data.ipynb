{
 "cells": [
  {
   "cell_type": "code",
   "execution_count": 1,
   "source": [
    "import requests as req , re , pandas as pd\n",
    "from pyvis.network import Network"
   ],
   "outputs": [],
   "metadata": {}
  },
  {
   "cell_type": "code",
   "execution_count": 2,
   "source": [
    "def connect(source):\n",
    "    url = 'https://t.me/s/' + source\n",
    "    request = req.get(url)\n",
    "    html = request.text\n",
    "    print('connected to' , source)\n",
    "    return html"
   ],
   "outputs": [],
   "metadata": {}
  },
  {
   "cell_type": "markdown",
   "source": [
    "Getting links to other telegram entities "
   ],
   "metadata": {}
  },
  {
   "cell_type": "code",
   "execution_count": 3,
   "source": [
    "def targets(html , source):\n",
    "    regex = re.compile(r'href=.https://t.me/\\w+')\n",
    "    data = []\n",
    "    for target in regex.findall(html):\n",
    "        target = target.rsplit('/' , 1)[1]\n",
    "        if target.lower() != source.lower():\n",
    "            data.append([source.lower(), target.lower()])\n",
    "    edge_df = pd.DataFrame(data , columns=['source', 'target'])\n",
    "    print('got targets from' , source)\n",
    "    return edge_df"
   ],
   "outputs": [],
   "metadata": {}
  },
  {
   "cell_type": "code",
   "execution_count": 4,
   "source": [
    "def subs (html , source):\n",
    "    regex = re.compile(r'class=.counter_value.>[^<]+')\n",
    "    try:\n",
    "        string = regex.findall(html)[0]\n",
    "        number = convert_str_to_number(string.rsplit('>' , 1)[1])\n",
    "        print('got ' , number ,  'subs from ' , source)\n",
    "        return number\n",
    "    except:\n",
    "        print('cant get subs for' , source)\n",
    "    return"
   ],
   "outputs": [],
   "metadata": {}
  },
  {
   "cell_type": "markdown",
   "source": [
    "Note: connect , targets and subs functions can be edited per social network"
   ],
   "metadata": {}
  },
  {
   "cell_type": "code",
   "execution_count": 5,
   "source": [
    "def convert_str_to_number(x):\n",
    "    total_stars = 0\n",
    "    num_map = {'K':1000, 'M':1000000, 'B':1000000000}\n",
    "    if x.isdigit():\n",
    "        total_stars = int(x)\n",
    "    else:\n",
    "        if len(x) > 1:\n",
    "            total_stars = float(x[:-1]) * num_map.get(x[-1].upper(), 1)\n",
    "    return int(total_stars)"
   ],
   "outputs": [],
   "metadata": {}
  },
  {
   "cell_type": "code",
   "execution_count": 6,
   "source": [
    "def finals(source):\n",
    "    html = connect(source)\n",
    "    edge_df = targets(html , source)\n",
    "    if source[-3:].lower() != 'bot':\n",
    "        size = subs(html , source)\n",
    "        edge_df['source_node_size'] = size\n",
    "    edge_df['edge_size'] = edge_df.groupby(['target'])['source'].transform('count')\n",
    "    edge_df = edge_df.drop_duplicates(subset=['target'])\n",
    "    print('passed finals for' , source)\n",
    "    return edge_df"
   ],
   "outputs": [],
   "metadata": {}
  },
  {
   "cell_type": "code",
   "execution_count": 7,
   "source": [
    "def loop(df , i , start_channel_name, iter_number):\n",
    "    iter = iter_number\n",
    "    if i < iter:\n",
    "      targets = df['target']\n",
    "      for target in targets:\n",
    "          edge_df = finals(target)\n",
    "          df = df.append(edge_df)\n",
    "          print('current length = ' , len(df))\n",
    "      if i+1==iter:\n",
    "        df.to_csv('{} iteration for {}.csv'.format(str(i+1),start_channel_name))\n",
    "      i += 1\n",
    "      print('iteration' , i)\n",
    "      loop(df , i , start_channel_name, iter)\n",
    "      return\n",
    "    else: return \"finished\""
   ],
   "outputs": [],
   "metadata": {}
  },
  {
   "cell_type": "markdown",
   "source": [
    "Running the data code"
   ],
   "metadata": {}
  },
  {
   "cell_type": "code",
   "execution_count": 8,
   "source": [
    "channel_name = input(\"Enter the channel name: \")\n",
    "iterations_number = int(input(\"Enter the number of iterations: \"))\n",
    "loop(finals(channel_name) , 0 , channel_name, iterations_number)"
   ],
   "outputs": [
    {
     "output_type": "stream",
     "name": "stdout",
     "text": [
      "connected to crypto\n",
      "got targets from crypto\n",
      "got  56000 subs from  crypto\n",
      "passed finals for crypto\n",
      "connected to listmebot\n",
      "got targets from listmebot\n",
      "passed finals for listmebot\n",
      "current length =  18\n",
      "connected to cryptofaqs\n",
      "got targets from cryptofaqs\n",
      "got  703 subs from  cryptofaqs\n",
      "passed finals for cryptofaqs\n",
      "current length =  26\n",
      "connected to airdrops\n",
      "got targets from airdrops\n",
      "got  9040 subs from  airdrops\n",
      "passed finals for airdrops\n",
      "current length =  51\n",
      "connected to cryptoalerts\n",
      "got targets from cryptoalerts\n",
      "got  19800 subs from  cryptoalerts\n",
      "passed finals for cryptoalerts\n",
      "current length =  54\n",
      "connected to cryptobots\n",
      "got targets from cryptobots\n",
      "got  2510 subs from  cryptobots\n",
      "passed finals for cryptobots\n",
      "current length =  89\n",
      "connected to cryptochannels\n",
      "got targets from cryptochannels\n",
      "got  4930 subs from  cryptochannels\n",
      "passed finals for cryptochannels\n",
      "current length =  151\n",
      "connected to cryptocommunities\n",
      "got targets from cryptocommunities\n",
      "got  5110 subs from  cryptocommunities\n",
      "passed finals for cryptocommunities\n",
      "current length =  240\n",
      "connected to cryptocurrencies\n",
      "got targets from cryptocurrencies\n",
      "got  7560 subs from  cryptocurrencies\n",
      "passed finals for cryptocurrencies\n",
      "current length =  349\n",
      "connected to cryptoexchanges\n",
      "got targets from cryptoexchanges\n",
      "got  1640 subs from  cryptoexchanges\n",
      "passed finals for cryptoexchanges\n",
      "current length =  372\n",
      "connected to cryptoindicators\n",
      "got targets from cryptoindicators\n",
      "got  4070 subs from  cryptoindicators\n",
      "passed finals for cryptoindicators\n",
      "current length =  414\n",
      "connected to cryptojobs\n",
      "got targets from cryptojobs\n",
      "got  4390 subs from  cryptojobs\n",
      "passed finals for cryptojobs\n",
      "current length =  417\n",
      "connected to cryptoservices\n",
      "got targets from cryptoservices\n",
      "got  1400 subs from  cryptoservices\n",
      "passed finals for cryptoservices\n",
      "current length =  431\n",
      "connected to scamexamples\n",
      "got targets from scamexamples\n",
      "got  1470 subs from  scamexamples\n",
      "passed finals for scamexamples\n",
      "current length =  433\n",
      "connected to notoscam\n",
      "got targets from notoscam\n",
      "cant get subs for notoscam\n",
      "passed finals for notoscam\n",
      "current length =  433\n",
      "connected to telegram\n",
      "got targets from telegram\n",
      "got  5980000 subs from  telegram\n",
      "passed finals for telegram\n",
      "current length =  438\n",
      "connected to resolutions\n",
      "got targets from resolutions\n",
      "cant get subs for resolutions\n",
      "passed finals for resolutions\n",
      "current length =  441\n",
      "connected to communityrules\n",
      "got targets from communityrules\n",
      "got  725 subs from  communityrules\n",
      "passed finals for communityrules\n",
      "current length =  448\n",
      "connected to learntotrade\n",
      "got targets from learntotrade\n",
      "cant get subs for learntotrade\n",
      "passed finals for learntotrade\n",
      "current length =  449\n",
      "iteration 1\n"
     ]
    }
   ],
   "metadata": {}
  },
  {
   "cell_type": "markdown",
   "source": [
    "Defining the graph"
   ],
   "metadata": {}
  },
  {
   "cell_type": "code",
   "execution_count": 9,
   "source": [
    "got_net = Network(height='750px', width='100%', bgcolor='#222222', font_color='whitw')"
   ],
   "outputs": [],
   "metadata": {}
  },
  {
   "cell_type": "markdown",
   "source": [
    "Defining data for the graph"
   ],
   "metadata": {}
  },
  {
   "cell_type": "code",
   "execution_count": 10,
   "source": [
    "edge_df = pd.read_csv('{} iteration for {}.csv'.format(str(iterations_number), channel_name))\n",
    "\n",
    "edge_data = zip(edge_df['source'], edge_df['target'], edge_df['edge_size'] , edge_df['source_node_size'])"
   ],
   "outputs": [],
   "metadata": {}
  },
  {
   "cell_type": "markdown",
   "source": [
    "Creating edges and nodes"
   ],
   "metadata": {}
  },
  {
   "cell_type": "code",
   "execution_count": 11,
   "source": [
    "for row in edge_data:\n",
    "    src = row[0]\n",
    "    trgt = row[1]\n",
    "    w = row[2]\n",
    "    size = row[3]\n",
    "    \n",
    "    source_node_link = \"<a href=\\'http://t.me/s/\" + src + \"'>\" + src + \"</a>\"\n",
    "    target_node_link = \"<a href=\\'http://t.me/s/\" + trgt + \"'>\" + trgt + \"</a>\"\n",
    "    \n",
    "    got_net.add_node(src, src, title=source_node_link , value=size)\n",
    "    got_net.add_node(trgt, trgt, title=target_node_link , value=size/10)\n",
    "    got_net.add_edge(src, trgt, value=w)"
   ],
   "outputs": [],
   "metadata": {}
  },
  {
   "cell_type": "markdown",
   "source": [
    "Creating the graph"
   ],
   "metadata": {}
  },
  {
   "cell_type": "code",
   "execution_count": 12,
   "source": [
    "got_net.show_buttons()\n",
    "got_net.show('{} iteration for {}.html'.format(str(iterations_number),channel_name))"
   ],
   "outputs": [],
   "metadata": {}
  }
 ],
 "metadata": {
  "orig_nbformat": 4,
  "language_info": {
   "name": "python",
   "version": "3.9.1",
   "mimetype": "text/x-python",
   "codemirror_mode": {
    "name": "ipython",
    "version": 3
   },
   "pygments_lexer": "ipython3",
   "nbconvert_exporter": "python",
   "file_extension": ".py"
  },
  "kernelspec": {
   "name": "python3",
   "display_name": "Python 3.9.1 64-bit"
  },
  "interpreter": {
   "hash": "aee8b7b246df8f9039afb4144a1f6fd8d2ca17a180786b69acc140d282b71a49"
  }
 },
 "nbformat": 4,
 "nbformat_minor": 2
}