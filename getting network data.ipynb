{
 "cells": [
  {
   "cell_type": "code",
   "execution_count": 60,
   "source": [
    "import requests as req , re , pandas as pd\n",
    "from pyvis.network import Network"
   ],
   "outputs": [],
   "metadata": {}
  },
  {
   "cell_type": "code",
   "execution_count": 61,
   "source": [
    "def connect(source):\n",
    "    url = 'https://t.me/s/' + source\n",
    "    request = req.get(url)\n",
    "    html = request.text\n",
    "    print('connected to' , source)\n",
    "    return html"
   ],
   "outputs": [],
   "metadata": {}
  },
  {
   "cell_type": "markdown",
   "source": [
    "Getting links to other telegram entities "
   ],
   "metadata": {}
  },
  {
   "cell_type": "code",
   "execution_count": 62,
   "source": [
    "def targets(html , source):\n",
    "    regex = re.compile(r'href=.https://t.me/\\w+')\n",
    "    data = []\n",
    "    for target in regex.findall(html):\n",
    "        target = target.rsplit('/' , 1)[1]\n",
    "        if target.lower() != source.lower():\n",
    "            data.append([source, target])\n",
    "    edge_df = pd.DataFrame(data , columns=['source', 'target'])\n",
    "    print('got targets from' , source)\n",
    "    return edge_df"
   ],
   "outputs": [],
   "metadata": {}
  },
  {
   "cell_type": "code",
   "execution_count": 63,
   "source": [
    "def subs (html , source):\n",
    "    regex = re.compile(r'class=.counter_value.>[^<]+')\n",
    "    try:\n",
    "        string = regex.findall(html)[0]\n",
    "        number = convert_str_to_number(string.rsplit('>' , 1)[1])\n",
    "        print('got ' , number ,  'subs from ' , source)\n",
    "        return number\n",
    "    except:\n",
    "        print('cant get subs for' , source)\n",
    "    return"
   ],
   "outputs": [],
   "metadata": {}
  },
  {
   "cell_type": "markdown",
   "source": [
    "Note: connect , targets and subs functions can be edited per social network"
   ],
   "metadata": {}
  },
  {
   "cell_type": "code",
   "execution_count": 64,
   "source": [
    "def convert_str_to_number(x):\n",
    "    total_stars = 0\n",
    "    num_map = {'K':1000, 'M':1000000, 'B':1000000000}\n",
    "    if x.isdigit():\n",
    "        total_stars = int(x)\n",
    "    else:\n",
    "        if len(x) > 1:\n",
    "            total_stars = float(x[:-1]) * num_map.get(x[-1].upper(), 1)\n",
    "    return int(total_stars)"
   ],
   "outputs": [],
   "metadata": {}
  },
  {
   "cell_type": "code",
   "execution_count": 65,
   "source": [
    "def finals(source):\n",
    "    html = connect(source)\n",
    "    size = subs(html , source)\n",
    "    edge_df = targets(html , source)\n",
    "    edge_df['source_node_size'] = size\n",
    "    edge_df['edge_size'] = edge_df.groupby(['target'])['source'].transform('count')\n",
    "    edge_df = edge_df.drop_duplicates(subset=['target'])\n",
    "    print('passed finals for' , source)\n",
    "    return edge_df"
   ],
   "outputs": [],
   "metadata": {}
  },
  {
   "cell_type": "code",
   "execution_count": 66,
   "source": [
    "def loop(df , i , start_channel_name, iter_number):\n",
    "    iter = iter_number\n",
    "    final_df  = df\n",
    "    if i < iter:\n",
    "      targets = df['target']\n",
    "      for target in targets:\n",
    "          edge_df = finals(target)\n",
    "          final_df = final_df.append(edge_df)\n",
    "          print('current length = ' , len(final_df))\n",
    "      if i+1==iter:\n",
    "        final_df.to_csv('{} iteration for {}.csv'.format(str(i),start_channel_name))\n",
    "      i += 1\n",
    "      print('iteration' , i)\n",
    "      loop(final_df , i , start_channel_name, iter)\n",
    "      return\n",
    "    else: return \"finished\""
   ],
   "outputs": [],
   "metadata": {}
  },
  {
   "cell_type": "markdown",
   "source": [
    "Running the data code"
   ],
   "metadata": {}
  },
  {
   "cell_type": "code",
   "execution_count": 67,
   "source": [
    "channel_name = input(\"Enter the channel name: \")\n",
    "iterations_number = int(input(\"Enter the number of iterations: \"))\n",
    "loop(finals(channel_name) , 0 , channel_name, iterations_number)"
   ],
   "outputs": [
    {
     "output_type": "stream",
     "name": "stdout",
     "text": [
      "connected to bnetanyahu\n",
      "got  40400 subs from  bnetanyahu\n",
      "got targets from bnetanyahu\n",
      "passed finals for bnetanyahu\n",
      "iteration 1\n"
     ]
    }
   ],
   "metadata": {}
  },
  {
   "cell_type": "markdown",
   "source": [
    "Defining the graph"
   ],
   "metadata": {}
  },
  {
   "cell_type": "code",
   "execution_count": 68,
   "source": [
    "got_net = Network(height='750px', width='100%', bgcolor='#222222', font_color='whitw' , directed=True)"
   ],
   "outputs": [],
   "metadata": {}
  },
  {
   "cell_type": "markdown",
   "source": [
    "Defining data for the graph"
   ],
   "metadata": {}
  },
  {
   "cell_type": "code",
   "execution_count": 69,
   "source": [
    "edge_df = pd.read_csv('{} iteration for {}.csv'.format(str(iterations_number-1), channel_name))\n",
    "\n",
    "edge_data = zip(edge_df['source'], edge_df['target'], edge_df['edge_size'] , edge_df['source_node_size'])"
   ],
   "outputs": [],
   "metadata": {}
  },
  {
   "cell_type": "markdown",
   "source": [
    "Creating edges and nodes"
   ],
   "metadata": {}
  },
  {
   "cell_type": "code",
   "execution_count": 70,
   "source": [
    "for row in edge_data:\n",
    "    src = row[0]\n",
    "    trgt = row[1]\n",
    "    w = row[2]\n",
    "    size = row[3]\n",
    "    \n",
    "    source_node_link = \"<a href=\\'http://t.me/s/\" + src + \"'>\" + src + \"</a>\"\n",
    "    target_node_link = \"<a href=\\'http://t.me/s/\" + trgt + \"'>\" + trgt + \"</a>\"\n",
    "    \n",
    "    got_net.add_node(src, src, title=source_node_link , value=size)\n",
    "    got_net.add_node(trgt, trgt, title=target_node_link , value=size/10)\n",
    "    got_net.add_edge(src, trgt, value=w)"
   ],
   "outputs": [],
   "metadata": {}
  },
  {
   "cell_type": "markdown",
   "source": [
    "Creating the graph"
   ],
   "metadata": {}
  },
  {
   "cell_type": "code",
   "execution_count": 71,
   "source": [
    "got_net.show_buttons()\n",
    "got_net.show('{} iteration for {}.html'.format(str(iterations_number-1),channel_name))"
   ],
   "outputs": [],
   "metadata": {}
  }
 ],
 "metadata": {
  "orig_nbformat": 4,
  "language_info": {
   "name": "python",
   "version": "3.9.1",
   "mimetype": "text/x-python",
   "codemirror_mode": {
    "name": "ipython",
    "version": 3
   },
   "pygments_lexer": "ipython3",
   "nbconvert_exporter": "python",
   "file_extension": ".py"
  },
  "kernelspec": {
   "name": "python3",
   "display_name": "Python 3.9.1 64-bit"
  },
  "interpreter": {
   "hash": "aee8b7b246df8f9039afb4144a1f6fd8d2ca17a180786b69acc140d282b71a49"
  }
 },
 "nbformat": 4,
 "nbformat_minor": 2
}